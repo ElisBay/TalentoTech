{
  "nbformat": 4,
  "nbformat_minor": 0,
  "metadata": {
    "colab": {
      "provenance": []
    },
    "kernelspec": {
      "name": "python3",
      "display_name": "Python 3"
    },
    "language_info": {
      "name": "python"
    }
  },
  "cells": [
    {
      "cell_type": "markdown",
      "source": [
        "#Estructura de datos\n",
        "En ciencias de la computación, una estructura de datos es una forma particular de organizar información en un computador para que pueda ser utilizada de manera eficiente.Diferentes tipos de estructuras de datos son adecuados para diferentes tipos de aplicaciones, y algunos son altamente especializados para tareas específicas.\n",
        "\n",
        "\n",
        "- Text Type:\tstr\n",
        "- Numeric Types:\tint, float, complex\n",
        "- Sequence Types:\tlist, tuple, range\n",
        "- Mapping Type:\tdict\n",
        "- Set Types:\tset\n",
        "- Boolean Type:\tbool\n",
        "\n",
        "\n",
        "\n"
      ],
      "metadata": {
        "id": "YHlR5YcxE4Cn"
      }
    },
    {
      "cell_type": "code",
      "source": [
        "mivariable = False\n",
        "print(mivariable)\n",
        "print(type(mivariable))"
      ],
      "metadata": {
        "colab": {
          "base_uri": "https://localhost:8080/"
        },
        "id": "X64f2UMvXhuy",
        "outputId": "ce5bd43e-6ad2-4a5b-addb-e706d521e5ca"
      },
      "execution_count": 44,
      "outputs": [
        {
          "output_type": "stream",
          "name": "stdout",
          "text": [
            "False\n",
            "<class 'bool'>\n"
          ]
        }
      ]
    },
    {
      "cell_type": "markdown",
      "source": [
        "# Listas\n",
        "Las listas se utilizan para almacenar varios elementos en una sola variable."
      ],
      "metadata": {
        "id": "LFfBV2BSOQC8"
      }
    },
    {
      "cell_type": "code",
      "source": [
        "nota1 = 4\n",
        "nota2 = 3\n",
        "nota3 = 5\n",
        "\n",
        "promedio = (nota1 + nota2 + nota3) / 3\n",
        "#print(promedio)\n",
        "\n",
        "notas = [4, 3, 5]\n",
        "promedio = sum(notas) / len(notas)\n",
        "#print(promedio)\n",
        "\n",
        "print(notas[0])\n",
        "print(notas[1])"
      ],
      "metadata": {
        "colab": {
          "base_uri": "https://localhost:8080/"
        },
        "id": "WcdZOXuHfyAj",
        "outputId": "6a714efe-bd50-423d-e7ee-cfe2ccbc6698"
      },
      "execution_count": 72,
      "outputs": [
        {
          "output_type": "stream",
          "name": "stdout",
          "text": [
            "4\n",
            "3\n"
          ]
        }
      ]
    },
    {
      "cell_type": "code",
      "source": [
        "lista = [\"apple\", \"banana\", \"cherry\"]\n",
        "print(lista)\n",
        "\n",
        "lista2 = [1, 5, 7, 9, 3, 4, 7, 8]\n",
        "print(lista2)\n",
        "\n",
        "lista3 = [True, False, False]\n",
        "print(lista3)\n",
        "\n",
        "lista4 = [\"abc\", 34, True, 40, \"male\"]\n",
        "print(lista4)\n",
        "\n",
        "lista5 = list((\"apple\", \"banana\", 1))\n",
        "print(lista5)\n",
        "\n",
        "print(len(lista2))\n",
        "print(type(lista2))\n",
        "\n",
        "print(lista[1])\n",
        "print(lista2[1:5])\n",
        "print(lista2[1:5:2])\n",
        "print(lista2[:4])\n",
        "print(lista2[2:])\n",
        "print(lista2[-4:-1])\n",
        "\n",
        "lista.append(\"orange\")\n",
        "lista.append(1)\n",
        "print(lista)\n",
        "\n",
        "[print(x) for x in lista2]\n",
        "#[print(x) for x in lista2 if x > 5]"
      ],
      "metadata": {
        "id": "5v-1i13fN_v3",
        "colab": {
          "base_uri": "https://localhost:8080/"
        },
        "outputId": "3567e2bf-d980-44ce-c17c-126a7c9b37f6"
      },
      "execution_count": 77,
      "outputs": [
        {
          "output_type": "stream",
          "name": "stdout",
          "text": [
            "['apple', 'banana', 'cherry']\n",
            "[1, 5, 7, 9, 3, 4, 7, 8]\n",
            "[True, False, False]\n",
            "['abc', 34, True, 40, 'male']\n",
            "['apple', 'banana', 1]\n",
            "8\n",
            "<class 'list'>\n",
            "banana\n",
            "[5, 7, 9, 3]\n",
            "[5, 9]\n",
            "[1, 5, 7, 9]\n",
            "[7, 9, 3, 4, 7, 8]\n",
            "[3, 4, 7]\n",
            "['apple', 'banana', 'cherry', 'orange', 1]\n",
            "1\n",
            "5\n",
            "7\n",
            "9\n",
            "3\n",
            "4\n",
            "7\n",
            "8\n"
          ]
        },
        {
          "output_type": "execute_result",
          "data": {
            "text/plain": [
              "[None, None, None, None, None, None, None, None]"
            ]
          },
          "metadata": {},
          "execution_count": 77
        }
      ]
    },
    {
      "cell_type": "markdown",
      "source": [
        "# Diccionarios\n",
        "\n",
        "Los diccionarios se utilizan para almacenar valores de datos en pares clave:valor.\n",
        "Un diccionario es una colección ordenada*, modificable y que no permite duplicados."
      ],
      "metadata": {
        "id": "wpXCFxYNWHDx"
      }
    },
    {
      "cell_type": "code",
      "source": [
        "persona = {\"nombre\":\"Carlos\", \"edad\":22, \"cursos\":[\"Python\",\"Django\",\"JavaScript\"]}\n",
        "print(persona)\n",
        "print(persona[\"edad\"])\n",
        "print(persona[\"cursos\"][0])\n",
        "\n",
        "persona2 = dict(nombre = \"John\", age = 36, country = \"Colombia\", city = \"Bogota\")\n",
        "print(persona2)\n",
        "\n",
        "print(type(persona))\n",
        "print(persona2)"
      ],
      "metadata": {
        "id": "i-cfUpYPWJeV",
        "colab": {
          "base_uri": "https://localhost:8080/"
        },
        "outputId": "85352bdb-077c-46c9-cf75-2cda614775bc"
      },
      "execution_count": 63,
      "outputs": [
        {
          "output_type": "stream",
          "name": "stdout",
          "text": [
            "{'nombre': 'Carlos', 'edad': 22, 'cursos': ['Python', 'Django', 'JavaScript']}\n",
            "22\n",
            "Python\n",
            "<class 'dict'>\n",
            "{'nombre': 'John', 'age': 36, 'country': 'Colombia', 'city': 'Bogota'}\n"
          ]
        }
      ]
    },
    {
      "cell_type": "markdown",
      "source": [
        "#Tuplas\n",
        "Las tuplas en Python o tuples son muy similares a las listas, pero con dos diferencias. Son inmutables, lo que significa que no pueden ser modificadas una vez declaradas, y en vez de inicializarse con corchetes se hace con (). Dependiendo de lo que queramos hacer, las tuplas pueden ser más rápidas."
      ],
      "metadata": {
        "id": "IXsy3_RFJqJv"
      }
    },
    {
      "cell_type": "code",
      "source": [
        "tupla = (1, 2, 3)\n",
        "print(tupla)\n",
        "\n",
        "tupla2 = 10, 20, 30\n",
        "print(type(tupla2))\n",
        "print(tupla2)\n",
        "\n",
        "lista = [1, 2, 3, \"a\"]\n",
        "tupla3 = tuple(lista)\n",
        "print(type(tupla3))\n",
        "print(tupla3)"
      ],
      "metadata": {
        "colab": {
          "base_uri": "https://localhost:8080/"
        },
        "id": "UXX_zjtQJsxb",
        "outputId": "f0d2dea4-d5ee-4f8a-d6a7-70aa77f62c5b"
      },
      "execution_count": 74,
      "outputs": [
        {
          "output_type": "stream",
          "name": "stdout",
          "text": [
            "(1, 2, 3)\n",
            "<class 'tuple'>\n",
            "(10, 20, 30)\n",
            "<class 'tuple'>\n",
            "(1, 2, 3, 'a')\n"
          ]
        }
      ]
    },
    {
      "cell_type": "code",
      "source": [
        "tupla = (1, 2, 3, 4)\n",
        "#print(tupla[2])\n",
        "\n",
        "for x in tupla:\n",
        "  print(x)"
      ],
      "metadata": {
        "colab": {
          "base_uri": "https://localhost:8080/"
        },
        "id": "7RigJ_sGd3k2",
        "outputId": "0c7237bc-e60a-4042-b524-5025e24fa0f5"
      },
      "execution_count": 69,
      "outputs": [
        {
          "output_type": "stream",
          "name": "stdout",
          "text": [
            "1\n",
            "2\n",
            "3\n",
            "4\n"
          ]
        }
      ]
    },
    {
      "cell_type": "markdown",
      "source": [
        "# Sets\n",
        "Los set en Python son un tipo que permite almacenar varios elementos y acceder a ellos de una forma muy similar a las listas pero con ciertas diferencias:\n",
        "\n",
        "Los elementos de un set son único, lo que significa que no puede haber elementos duplicados.\n",
        "Los set son desordenados, lo que significa que no mantienen el orden de cuando son declarados.\n",
        "Sus elementos deben ser inmutables."
      ],
      "metadata": {
        "id": "oIPHgzxNKkes"
      }
    },
    {
      "cell_type": "code",
      "source": [
        "s = set([5, 4, 6, 8, 8, 1])\n",
        "print(s)\n",
        "print(type(s))\n",
        "\n",
        "set2 = {5, 4, 6, 8, 8, 1}\n",
        "print(set2)       #{1, 4, 5, 6, 8}\n",
        "print(type(set2)) #<class 'set'>\n",
        "\n",
        "set3 = {\"apple\", \"banana\", \"cherry\", False, 1, 8}\n",
        "print(set3)\n",
        "\n",
        "for x in set3:\n",
        "  print(x)\n",
        "\n",
        "set3.add(\"orange\")\n",
        "print(set3)\n"
      ],
      "metadata": {
        "colab": {
          "base_uri": "https://localhost:8080/"
        },
        "id": "8hBa1ewgKoSr",
        "outputId": "4ee764db-accb-4e7a-ce41-dde8753af9b8"
      },
      "execution_count": 76,
      "outputs": [
        {
          "output_type": "stream",
          "name": "stdout",
          "text": [
            "{1, 4, 5, 6, 8}\n",
            "<class 'set'>\n",
            "{1, 4, 5, 6, 8}\n",
            "<class 'set'>\n",
            "{False, 1, 'cherry', 'banana', 'apple', 8}\n",
            "False\n",
            "1\n",
            "cherry\n",
            "banana\n",
            "apple\n",
            "8\n",
            "{False, 1, 'cherry', 'banana', 'apple', 8, 'orange'}\n"
          ]
        }
      ]
    },
    {
      "cell_type": "code",
      "source": [
        "import numpy\n",
        "\n",
        "speed = [32,111,138,28,59,77,97]\n",
        "\n",
        "promedio = numpy.mean(speed)\n",
        "std_dev = numpy.std(speed)\n",
        "\n",
        "print(promedio)\n",
        "print(std_dev)\n",
        "\n",
        "varianza = std_dev**2\n",
        "print(\"varianza = \", varianza)\n",
        "print(\"desviación estándar = \", varianza**0.5)"
      ],
      "metadata": {
        "colab": {
          "base_uri": "https://localhost:8080/"
        },
        "id": "AfQpa-iCwEfQ",
        "outputId": "55ae03e8-80d8-4bfa-930b-7c54aedad4ac"
      },
      "execution_count": 78,
      "outputs": [
        {
          "output_type": "stream",
          "name": "stdout",
          "text": [
            "86.42857142857143\n"
          ]
        }
      ]
    },
    {
      "cell_type": "markdown",
      "source": [],
      "metadata": {
        "id": "kLQIx-oVwELQ"
      }
    }
  ]
}